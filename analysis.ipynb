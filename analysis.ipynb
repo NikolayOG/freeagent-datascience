{
 "cells": [
  {
   "cell_type": "markdown",
   "metadata": {},
   "source": [
    "### Questions\n",
    "\n",
    "1. Examine the provided data. Are there any differences in properties of behaviour between those customers that subscribe and those that do not?\n",
    "\n",
    "2. Construct a model to predict if a customer will subscribe after their free trial and demonstrate its performance."
   ]
  },
  {
   "cell_type": "code",
   "execution_count": 95,
   "metadata": {
    "collapsed": true
   },
   "outputs": [],
   "source": [
    "import numpy as np\n",
    "import pandas as pd\n",
    "import matplotlib.pyplot as plt"
   ]
  },
  {
   "cell_type": "code",
   "execution_count": 38,
   "metadata": {},
   "outputs": [
    {
     "data": {
      "text/html": [
       "<div>\n",
       "<style>\n",
       "    .dataframe thead tr:only-child th {\n",
       "        text-align: right;\n",
       "    }\n",
       "\n",
       "    .dataframe thead th {\n",
       "        text-align: left;\n",
       "    }\n",
       "\n",
       "    .dataframe tbody tr th {\n",
       "        vertical-align: top;\n",
       "    }\n",
       "</style>\n",
       "<table border=\"1\" class=\"dataframe\">\n",
       "  <thead>\n",
       "    <tr style=\"text-align: right;\">\n",
       "      <th></th>\n",
       "      <th>company</th>\n",
       "      <th>company_type</th>\n",
       "      <th>subscribed_after_free_trial</th>\n",
       "    </tr>\n",
       "  </thead>\n",
       "  <tbody>\n",
       "    <tr>\n",
       "      <th>0</th>\n",
       "      <td>346782</td>\n",
       "      <td>uk_limited_company</td>\n",
       "      <td>False</td>\n",
       "    </tr>\n",
       "    <tr>\n",
       "      <th>1</th>\n",
       "      <td>346783</td>\n",
       "      <td>uk_limited_company</td>\n",
       "      <td>False</td>\n",
       "    </tr>\n",
       "    <tr>\n",
       "      <th>2</th>\n",
       "      <td>346784</td>\n",
       "      <td>uk_limited_company</td>\n",
       "      <td>True</td>\n",
       "    </tr>\n",
       "    <tr>\n",
       "      <th>3</th>\n",
       "      <td>346785</td>\n",
       "      <td>uk_limited_company</td>\n",
       "      <td>False</td>\n",
       "    </tr>\n",
       "    <tr>\n",
       "      <th>4</th>\n",
       "      <td>346786</td>\n",
       "      <td>uk_limited_company</td>\n",
       "      <td>False</td>\n",
       "    </tr>\n",
       "    <tr>\n",
       "      <th>5</th>\n",
       "      <td>346787</td>\n",
       "      <td>uk_limited_company</td>\n",
       "      <td>False</td>\n",
       "    </tr>\n",
       "    <tr>\n",
       "      <th>6</th>\n",
       "      <td>346788</td>\n",
       "      <td>uk_limited_company</td>\n",
       "      <td>False</td>\n",
       "    </tr>\n",
       "    <tr>\n",
       "      <th>7</th>\n",
       "      <td>346789</td>\n",
       "      <td>uk_limited_company</td>\n",
       "      <td>False</td>\n",
       "    </tr>\n",
       "    <tr>\n",
       "      <th>8</th>\n",
       "      <td>346790</td>\n",
       "      <td>uk_limited_company</td>\n",
       "      <td>False</td>\n",
       "    </tr>\n",
       "    <tr>\n",
       "      <th>9</th>\n",
       "      <td>346791</td>\n",
       "      <td>uk_limited_company</td>\n",
       "      <td>False</td>\n",
       "    </tr>\n",
       "  </tbody>\n",
       "</table>\n",
       "</div>"
      ],
      "text/plain": [
       "   company        company_type  subscribed_after_free_trial\n",
       "0   346782  uk_limited_company                        False\n",
       "1   346783  uk_limited_company                        False\n",
       "2   346784  uk_limited_company                         True\n",
       "3   346785  uk_limited_company                        False\n",
       "4   346786  uk_limited_company                        False\n",
       "5   346787  uk_limited_company                        False\n",
       "6   346788  uk_limited_company                        False\n",
       "7   346789  uk_limited_company                        False\n",
       "8   346790  uk_limited_company                        False\n",
       "9   346791  uk_limited_company                        False"
      ]
     },
     "execution_count": 38,
     "metadata": {},
     "output_type": "execute_result"
    }
   ],
   "source": [
    "raw_data_attributes = pd.read_csv('attributes_report.csv')\n",
    "raw_data_attributes.head(10)"
   ]
  },
  {
   "cell_type": "code",
   "execution_count": 4,
   "metadata": {},
   "outputs": [
    {
     "name": "stdout",
     "output_type": "stream",
     "text": [
      "['uk_limited_company' 'uk_sole_trader' 'universal_company']\n"
     ]
    }
   ],
   "source": [
    "data_attributes = pd.DataFrame(raw_data_attributes)\n",
    "print(data_attributes.company_type.unique())"
   ]
  },
  {
   "cell_type": "code",
   "execution_count": 5,
   "metadata": {
    "collapsed": true
   },
   "outputs": [],
   "source": [
    "with open('engagement_report.log') as f:\n",
    "    raw_data_logs = f.readlines()"
   ]
  },
  {
   "cell_type": "code",
   "execution_count": 6,
   "metadata": {
    "collapsed": true
   },
   "outputs": [],
   "source": [
    "data_logs = pd.DataFrame(columns=['company', 'day1', 'day2', 'day3', 'day4', 'day5', 'day6', 'day7'])"
   ]
  },
  {
   "cell_type": "code",
   "execution_count": 47,
   "metadata": {},
   "outputs": [],
   "source": [
    "# week_days = 1\n",
    "# i = 0\n",
    "# while i < len(raw_data_logs):\n",
    "#     row = []\n",
    "#     company = raw_data_logs[i][8:14]\n",
    "#     day1 = int(raw_data_logs[i][25:26])\n",
    "#     day2 = int(raw_data_logs[i + 1][25:26])\n",
    "#     day3 = int(raw_data_logs[i + 2][25:26])\n",
    "#     day4 = int(raw_data_logs[i + 3][25:26])\n",
    "#     day5 = int(raw_data_logs[i + 4][25:26])\n",
    "#     day6 = int(raw_data_logs[i + 5][25:26])\n",
    "#     day7 = int(raw_data_logs[i + 6][25:26])\n",
    "    \n",
    "#     row = [company, day1, day2, day3, day4, day5, day6, day7]\n",
    "#     data_logs.loc[i] = row\n",
    "    \n",
    "#     i += 7\n",
    "\n",
    "record_index = 0    \n",
    "for day in range(len(raw_data_logs)):\n",
    "    if (day % 7 == 0):\n",
    "        row = []\n",
    "        company = int(raw_data_logs[day][8:14])\n",
    "        day1 = int(raw_data_logs[day][25:26])\n",
    "        day2 = int(raw_data_logs[day + 1][25:26])\n",
    "        day3 = int(raw_data_logs[day + 2][25:26])\n",
    "        day4 = int(raw_data_logs[day + 3][25:26])\n",
    "        day5 = int(raw_data_logs[day + 4][25:26])\n",
    "        day6 = int(raw_data_logs[day + 5][25:26])\n",
    "        day7 = int(raw_data_logs[day + 6][25:26])        \n",
    "        \n",
    "        row = [company, day1, day2, day3, day4, day5, day6, day7]\n",
    "        data_logs.loc[record_index] = row\n",
    "        record_index += 1"
   ]
  },
  {
   "cell_type": "code",
   "execution_count": 80,
   "metadata": {
    "scrolled": true
   },
   "outputs": [
    {
     "data": {
      "text/html": [
       "<div>\n",
       "<style>\n",
       "    .dataframe thead tr:only-child th {\n",
       "        text-align: right;\n",
       "    }\n",
       "\n",
       "    .dataframe thead th {\n",
       "        text-align: left;\n",
       "    }\n",
       "\n",
       "    .dataframe tbody tr th {\n",
       "        vertical-align: top;\n",
       "    }\n",
       "</style>\n",
       "<table border=\"1\" class=\"dataframe\">\n",
       "  <thead>\n",
       "    <tr style=\"text-align: right;\">\n",
       "      <th></th>\n",
       "      <th>company</th>\n",
       "      <th>company_type</th>\n",
       "      <th>subscribed_after_free_trial</th>\n",
       "      <th>day1</th>\n",
       "      <th>day2</th>\n",
       "      <th>day3</th>\n",
       "      <th>day4</th>\n",
       "      <th>day5</th>\n",
       "      <th>day6</th>\n",
       "      <th>day7</th>\n",
       "    </tr>\n",
       "  </thead>\n",
       "  <tbody>\n",
       "    <tr>\n",
       "      <th>0</th>\n",
       "      <td>346782</td>\n",
       "      <td>uk_limited_company</td>\n",
       "      <td>False</td>\n",
       "      <td>1</td>\n",
       "      <td>0</td>\n",
       "      <td>1</td>\n",
       "      <td>0</td>\n",
       "      <td>1</td>\n",
       "      <td>0</td>\n",
       "      <td>0</td>\n",
       "    </tr>\n",
       "    <tr>\n",
       "      <th>1</th>\n",
       "      <td>346783</td>\n",
       "      <td>uk_limited_company</td>\n",
       "      <td>False</td>\n",
       "      <td>0</td>\n",
       "      <td>0</td>\n",
       "      <td>0</td>\n",
       "      <td>0</td>\n",
       "      <td>0</td>\n",
       "      <td>0</td>\n",
       "      <td>0</td>\n",
       "    </tr>\n",
       "    <tr>\n",
       "      <th>2</th>\n",
       "      <td>346784</td>\n",
       "      <td>uk_limited_company</td>\n",
       "      <td>True</td>\n",
       "      <td>1</td>\n",
       "      <td>0</td>\n",
       "      <td>0</td>\n",
       "      <td>1</td>\n",
       "      <td>4</td>\n",
       "      <td>1</td>\n",
       "      <td>0</td>\n",
       "    </tr>\n",
       "    <tr>\n",
       "      <th>3</th>\n",
       "      <td>346785</td>\n",
       "      <td>uk_limited_company</td>\n",
       "      <td>False</td>\n",
       "      <td>0</td>\n",
       "      <td>0</td>\n",
       "      <td>0</td>\n",
       "      <td>0</td>\n",
       "      <td>0</td>\n",
       "      <td>0</td>\n",
       "      <td>0</td>\n",
       "    </tr>\n",
       "    <tr>\n",
       "      <th>4</th>\n",
       "      <td>346786</td>\n",
       "      <td>uk_limited_company</td>\n",
       "      <td>False</td>\n",
       "      <td>0</td>\n",
       "      <td>0</td>\n",
       "      <td>0</td>\n",
       "      <td>0</td>\n",
       "      <td>0</td>\n",
       "      <td>0</td>\n",
       "      <td>0</td>\n",
       "    </tr>\n",
       "  </tbody>\n",
       "</table>\n",
       "</div>"
      ],
      "text/plain": [
       "   company        company_type  subscribed_after_free_trial  day1  day2  day3  \\\n",
       "0   346782  uk_limited_company                        False     1     0     1   \n",
       "1   346783  uk_limited_company                        False     0     0     0   \n",
       "2   346784  uk_limited_company                         True     1     0     0   \n",
       "3   346785  uk_limited_company                        False     0     0     0   \n",
       "4   346786  uk_limited_company                        False     0     0     0   \n",
       "\n",
       "   day4  day5  day6  day7  \n",
       "0     0     1     0     0  \n",
       "1     0     0     0     0  \n",
       "2     1     4     1     0  \n",
       "3     0     0     0     0  \n",
       "4     0     0     0     0  "
      ]
     },
     "execution_count": 80,
     "metadata": {},
     "output_type": "execute_result"
    }
   ],
   "source": [
    "data = pd.merge(data_attributes, data_logs, on='company', how='inner')\n",
    "data.head()"
   ]
  },
  {
   "cell_type": "code",
   "execution_count": 91,
   "metadata": {},
   "outputs": [],
   "source": [
    "data_no_sub = data.loc[data['subscribed_after_free_trial'] == False]\n",
    "\n",
    "num_rows = len(data_no_sub)\n",
    "\n",
    "data_no_sub_avg_day1 = data_no_sub['day1'].sum() / num_rows\n",
    "data_no_sub_avg_day2 = data_no_sub['day2'].sum() / num_rows\n",
    "data_no_sub_avg_day3 = data_no_sub['day3'].sum() / num_rows\n",
    "data_no_sub_avg_day4 = data_no_sub['day4'].sum() / num_rows\n",
    "data_no_sub_avg_day5 = data_no_sub['day5'].sum() / num_rows\n",
    "data_no_sub_avg_day6 = data_no_sub['day6'].sum() / num_rows\n",
    "data_no_sub_avg_day7 = data_no_sub['day7'].sum() / num_rows\n",
    "\n",
    "\n",
    "data_no_sub_all_days = [data_no_sub_avg_day1, data_no_sub_avg_day2, data_no_sub_avg_day3, data_no_sub_avg_day4, data_no_sub_avg_day5, data_no_sub_avg_day6, data_no_sub_avg_day7]\n"
   ]
  },
  {
   "cell_type": "code",
   "execution_count": 93,
   "metadata": {},
   "outputs": [],
   "source": [
    "data_yes_sub = data.loc[data['subscribed_after_free_trial'] == True]\n",
    "\n",
    "num_rows = len(data_yes_sub)\n",
    "\n",
    "data_yes_sub_avg_day1 = data_yes_sub['day1'].sum() / num_rows\n",
    "data_yes_sub_avg_day2 = data_yes_sub['day2'].sum() / num_rows\n",
    "data_yes_sub_avg_day3 = data_yes_sub['day3'].sum() / num_rows\n",
    "data_yes_sub_avg_day4 = data_yes_sub['day4'].sum() / num_rows\n",
    "data_yes_sub_avg_day5 = data_yes_sub['day5'].sum() / num_rows\n",
    "data_yes_sub_avg_day6 = data_yes_sub['day6'].sum() / num_rows\n",
    "data_yes_sub_avg_day7 = data_yes_sub['day7'].sum() / num_rows\n",
    "\n",
    "\n",
    "data_yes_sub_all_days = [data_yes_sub_avg_day1, data_yes_sub_avg_day2, data_yes_sub_avg_day3, data_yes_sub_avg_day4, data_yes_sub_avg_day5, data_yes_sub_avg_day6, data_yes_sub_avg_day7]\n"
   ]
  },
  {
   "cell_type": "code",
   "execution_count": 102,
   "metadata": {},
   "outputs": [
    {
     "data": {
      "image/png": "[encoded data removed]",
      "text/plain": [
       "<matplotlib.figure.Figure at 0x7f2df2aa8438>"
      ]
     },
     "metadata": {},
     "output_type": "display_data"
    }
   ],
   "source": [
    "plt.plot([1, 2, 3, 4, 5, 6, 7], data_no_sub_all_days, color='r')\n",
    "plt.plot([1, 2, 3, 4, 5, 6, 7], data_yes_sub_all_days, color='g')\n",
    "plt.legend(['no sub', 'sub'], loc='upper left')\n",
    "plt.show()"
   ]
  },
  {
   "cell_type": "markdown",
   "metadata": {},
   "source": [
    "I think on average companies that subscribe go to the website at least two times and companies that don't subscribe <= 1; try to test it with standard deviation or smth"
   ]
  },
  {
   "cell_type": "code",
   "execution_count": 9,
   "metadata": {},
   "outputs": [
    {
     "data": {
      "text/plain": [
       "0"
      ]
     },
     "execution_count": 9,
     "metadata": {},
     "output_type": "execute_result"
    }
   ],
   "source": [
    "0 % 7"
   ]
  },
  {
   "cell_type": "code",
   "execution_count": null,
   "metadata": {
    "collapsed": true
   },
   "outputs": [],
   "source": []
  }
 ],
 "metadata": {
  "kernelspec": {
   "display_name": "Python 3",
   "language": "python",
   "name": "python3"
  },
  "language_info": {
   "codemirror_mode": {
    "name": "ipython",
    "version": 3
   },
   "file_extension": ".py",
   "mimetype": "text/x-python",
   "name": "python",
   "nbconvert_exporter": "python",
   "pygments_lexer": "ipython3",
   "version": "3.6.3"
  }
 },
 "nbformat": 4,
 "nbformat_minor": 2
}
