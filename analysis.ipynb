{
 "cells": [
  {
   "cell_type": "markdown",
   "metadata": {},
   "source": [
    "### Questions\n",
    "\n",
    "1. Examine the provided data. Are there any differences in properties of behaviour between those customers that subscribe and those that do not?\n",
    "\n",
    "2. Construct a model to predict if a customer will subscribe after their free trial and demonstrate its performance."
   ]
  },
  {
   "cell_type": "code",
   "execution_count": 45,
   "metadata": {},
   "outputs": [],
   "source": [
    "import numpy as np\n",
    "import pandas as pd\n",
    "import matplotlib.pyplot as plt\n",
    "\n",
    "from xgboost.sklearn import XGBClassifier\n",
    "from xgboost import plot_importance\n",
    "\n",
    "from sklearn.svm import SVC\n",
    "\n",
    "from sklearn.grid_search import GridSearchCV, RandomizedSearchCV\n",
    "from sklearn.datasets import make_classification\n",
    "from sklearn.cross_validation import StratifiedKFold \n",
    "from sklearn.metrics import accuracy_score\n",
    "from sklearn.learning_curve import validation_curve\n",
    "\n",
    "from scipy.stats import randint, uniform\n",
    "\n",
    "\n",
    "seed = 9090\n",
    "np.random.seed(seed)"
   ]
  },
  {
   "cell_type": "code",
   "execution_count": 2,
   "metadata": {},
   "outputs": [
    {
     "data": {
      "text/html": [
       "<div>\n",
       "<style>\n",
       "    .dataframe thead tr:only-child th {\n",
       "        text-align: right;\n",
       "    }\n",
       "\n",
       "    .dataframe thead th {\n",
       "        text-align: left;\n",
       "    }\n",
       "\n",
       "    .dataframe tbody tr th {\n",
       "        vertical-align: top;\n",
       "    }\n",
       "</style>\n",
       "<table border=\"1\" class=\"dataframe\">\n",
       "  <thead>\n",
       "    <tr style=\"text-align: right;\">\n",
       "      <th></th>\n",
       "      <th>company</th>\n",
       "      <th>company_type</th>\n",
       "      <th>subscribed_after_free_trial</th>\n",
       "    </tr>\n",
       "  </thead>\n",
       "  <tbody>\n",
       "    <tr>\n",
       "      <th>0</th>\n",
       "      <td>346782</td>\n",
       "      <td>uk_limited_company</td>\n",
       "      <td>False</td>\n",
       "    </tr>\n",
       "    <tr>\n",
       "      <th>1</th>\n",
       "      <td>346783</td>\n",
       "      <td>uk_limited_company</td>\n",
       "      <td>False</td>\n",
       "    </tr>\n",
       "    <tr>\n",
       "      <th>2</th>\n",
       "      <td>346784</td>\n",
       "      <td>uk_limited_company</td>\n",
       "      <td>True</td>\n",
       "    </tr>\n",
       "    <tr>\n",
       "      <th>3</th>\n",
       "      <td>346785</td>\n",
       "      <td>uk_limited_company</td>\n",
       "      <td>False</td>\n",
       "    </tr>\n",
       "    <tr>\n",
       "      <th>4</th>\n",
       "      <td>346786</td>\n",
       "      <td>uk_limited_company</td>\n",
       "      <td>False</td>\n",
       "    </tr>\n",
       "    <tr>\n",
       "      <th>5</th>\n",
       "      <td>346787</td>\n",
       "      <td>uk_limited_company</td>\n",
       "      <td>False</td>\n",
       "    </tr>\n",
       "    <tr>\n",
       "      <th>6</th>\n",
       "      <td>346788</td>\n",
       "      <td>uk_limited_company</td>\n",
       "      <td>False</td>\n",
       "    </tr>\n",
       "    <tr>\n",
       "      <th>7</th>\n",
       "      <td>346789</td>\n",
       "      <td>uk_limited_company</td>\n",
       "      <td>False</td>\n",
       "    </tr>\n",
       "    <tr>\n",
       "      <th>8</th>\n",
       "      <td>346790</td>\n",
       "      <td>uk_limited_company</td>\n",
       "      <td>False</td>\n",
       "    </tr>\n",
       "    <tr>\n",
       "      <th>9</th>\n",
       "      <td>346791</td>\n",
       "      <td>uk_limited_company</td>\n",
       "      <td>False</td>\n",
       "    </tr>\n",
       "  </tbody>\n",
       "</table>\n",
       "</div>"
      ],
      "text/plain": [
       "   company        company_type  subscribed_after_free_trial\n",
       "0   346782  uk_limited_company                        False\n",
       "1   346783  uk_limited_company                        False\n",
       "2   346784  uk_limited_company                         True\n",
       "3   346785  uk_limited_company                        False\n",
       "4   346786  uk_limited_company                        False\n",
       "5   346787  uk_limited_company                        False\n",
       "6   346788  uk_limited_company                        False\n",
       "7   346789  uk_limited_company                        False\n",
       "8   346790  uk_limited_company                        False\n",
       "9   346791  uk_limited_company                        False"
      ]
     },
     "execution_count": 2,
     "metadata": {},
     "output_type": "execute_result"
    }
   ],
   "source": [
    "raw_data_attributes = pd.read_csv('attributes_report.csv')\n",
    "raw_data_attributes.head(10)"
   ]
  },
  {
   "cell_type": "code",
   "execution_count": 3,
   "metadata": {},
   "outputs": [
    {
     "name": "stdout",
     "output_type": "stream",
     "text": [
      "['uk_limited_company' 'uk_sole_trader' 'universal_company']\n"
     ]
    }
   ],
   "source": [
    "data_attributes = pd.DataFrame(raw_data_attributes)\n",
    "print(data_attributes.company_type.unique())"
   ]
  },
  {
   "cell_type": "code",
   "execution_count": 4,
   "metadata": {
    "collapsed": true
   },
   "outputs": [],
   "source": [
    "with open('engagement_report.log') as f:\n",
    "    raw_data_logs = f.readlines()"
   ]
  },
  {
   "cell_type": "code",
   "execution_count": 5,
   "metadata": {},
   "outputs": [],
   "source": [
    "data_logs = pd.DataFrame(columns=['company', 'day1', 'day2', 'day3', 'day4', 'day5', 'day6', 'day7'])"
   ]
  },
  {
   "cell_type": "code",
   "execution_count": 6,
   "metadata": {},
   "outputs": [
    {
     "data": {
      "text/html": [
       "<div>\n",
       "<style>\n",
       "    .dataframe thead tr:only-child th {\n",
       "        text-align: right;\n",
       "    }\n",
       "\n",
       "    .dataframe thead th {\n",
       "        text-align: left;\n",
       "    }\n",
       "\n",
       "    .dataframe tbody tr th {\n",
       "        vertical-align: top;\n",
       "    }\n",
       "</style>\n",
       "<table border=\"1\" class=\"dataframe\">\n",
       "  <thead>\n",
       "    <tr style=\"text-align: right;\">\n",
       "      <th></th>\n",
       "      <th>company</th>\n",
       "      <th>day1</th>\n",
       "      <th>day2</th>\n",
       "      <th>day3</th>\n",
       "      <th>day4</th>\n",
       "      <th>day5</th>\n",
       "      <th>day6</th>\n",
       "      <th>day7</th>\n",
       "    </tr>\n",
       "  </thead>\n",
       "  <tbody>\n",
       "    <tr>\n",
       "      <th>0</th>\n",
       "      <td>346782</td>\n",
       "      <td>1</td>\n",
       "      <td>0</td>\n",
       "      <td>1</td>\n",
       "      <td>0</td>\n",
       "      <td>1</td>\n",
       "      <td>0</td>\n",
       "      <td>0</td>\n",
       "    </tr>\n",
       "    <tr>\n",
       "      <th>1</th>\n",
       "      <td>346783</td>\n",
       "      <td>0</td>\n",
       "      <td>0</td>\n",
       "      <td>0</td>\n",
       "      <td>0</td>\n",
       "      <td>0</td>\n",
       "      <td>0</td>\n",
       "      <td>0</td>\n",
       "    </tr>\n",
       "    <tr>\n",
       "      <th>2</th>\n",
       "      <td>346784</td>\n",
       "      <td>1</td>\n",
       "      <td>0</td>\n",
       "      <td>0</td>\n",
       "      <td>1</td>\n",
       "      <td>4</td>\n",
       "      <td>1</td>\n",
       "      <td>0</td>\n",
       "    </tr>\n",
       "    <tr>\n",
       "      <th>3</th>\n",
       "      <td>346785</td>\n",
       "      <td>0</td>\n",
       "      <td>0</td>\n",
       "      <td>0</td>\n",
       "      <td>0</td>\n",
       "      <td>0</td>\n",
       "      <td>0</td>\n",
       "      <td>0</td>\n",
       "    </tr>\n",
       "    <tr>\n",
       "      <th>4</th>\n",
       "      <td>346786</td>\n",
       "      <td>0</td>\n",
       "      <td>0</td>\n",
       "      <td>0</td>\n",
       "      <td>0</td>\n",
       "      <td>0</td>\n",
       "      <td>0</td>\n",
       "      <td>0</td>\n",
       "    </tr>\n",
       "  </tbody>\n",
       "</table>\n",
       "</div>"
      ],
      "text/plain": [
       "  company day1 day2 day3 day4 day5 day6 day7\n",
       "0  346782    1    0    1    0    1    0    0\n",
       "1  346783    0    0    0    0    0    0    0\n",
       "2  346784    1    0    0    1    4    1    0\n",
       "3  346785    0    0    0    0    0    0    0\n",
       "4  346786    0    0    0    0    0    0    0"
      ]
     },
     "execution_count": 6,
     "metadata": {},
     "output_type": "execute_result"
    }
   ],
   "source": [
    "record_index = 0    \n",
    "for day in range(len(raw_data_logs)):\n",
    "    if (day % 7 == 0):\n",
    "        row = []\n",
    "        company = int(raw_data_logs[day][8:14])\n",
    "        day1 = int(raw_data_logs[day][25:26])\n",
    "        day2 = int(raw_data_logs[day + 1][25:26])\n",
    "        day3 = int(raw_data_logs[day + 2][25:26])\n",
    "        day4 = int(raw_data_logs[day + 3][25:26])\n",
    "        day5 = int(raw_data_logs[day + 4][25:26])\n",
    "        day6 = int(raw_data_logs[day + 5][25:26])\n",
    "        day7 = int(raw_data_logs[day + 6][25:26])        \n",
    "        \n",
    "        row = [company, day1, day2, day3, day4, day5, day6, day7]\n",
    "        data_logs.loc[record_index] = row\n",
    "        record_index += 1\n",
    "\n",
    "data_logs.head()"
   ]
  },
  {
   "cell_type": "code",
   "execution_count": 7,
   "metadata": {
    "scrolled": true
   },
   "outputs": [
    {
     "data": {
      "text/html": [
       "<div>\n",
       "<style>\n",
       "    .dataframe thead tr:only-child th {\n",
       "        text-align: right;\n",
       "    }\n",
       "\n",
       "    .dataframe thead th {\n",
       "        text-align: left;\n",
       "    }\n",
       "\n",
       "    .dataframe tbody tr th {\n",
       "        vertical-align: top;\n",
       "    }\n",
       "</style>\n",
       "<table border=\"1\" class=\"dataframe\">\n",
       "  <thead>\n",
       "    <tr style=\"text-align: right;\">\n",
       "      <th></th>\n",
       "      <th>company</th>\n",
       "      <th>company_type</th>\n",
       "      <th>subscribed_after_free_trial</th>\n",
       "      <th>day1</th>\n",
       "      <th>day2</th>\n",
       "      <th>day3</th>\n",
       "      <th>day4</th>\n",
       "      <th>day5</th>\n",
       "      <th>day6</th>\n",
       "      <th>day7</th>\n",
       "    </tr>\n",
       "  </thead>\n",
       "  <tbody>\n",
       "    <tr>\n",
       "      <th>0</th>\n",
       "      <td>346782</td>\n",
       "      <td>uk_limited_company</td>\n",
       "      <td>False</td>\n",
       "      <td>1</td>\n",
       "      <td>0</td>\n",
       "      <td>1</td>\n",
       "      <td>0</td>\n",
       "      <td>1</td>\n",
       "      <td>0</td>\n",
       "      <td>0</td>\n",
       "    </tr>\n",
       "    <tr>\n",
       "      <th>1</th>\n",
       "      <td>346783</td>\n",
       "      <td>uk_limited_company</td>\n",
       "      <td>False</td>\n",
       "      <td>0</td>\n",
       "      <td>0</td>\n",
       "      <td>0</td>\n",
       "      <td>0</td>\n",
       "      <td>0</td>\n",
       "      <td>0</td>\n",
       "      <td>0</td>\n",
       "    </tr>\n",
       "    <tr>\n",
       "      <th>2</th>\n",
       "      <td>346784</td>\n",
       "      <td>uk_limited_company</td>\n",
       "      <td>True</td>\n",
       "      <td>1</td>\n",
       "      <td>0</td>\n",
       "      <td>0</td>\n",
       "      <td>1</td>\n",
       "      <td>4</td>\n",
       "      <td>1</td>\n",
       "      <td>0</td>\n",
       "    </tr>\n",
       "    <tr>\n",
       "      <th>3</th>\n",
       "      <td>346785</td>\n",
       "      <td>uk_limited_company</td>\n",
       "      <td>False</td>\n",
       "      <td>0</td>\n",
       "      <td>0</td>\n",
       "      <td>0</td>\n",
       "      <td>0</td>\n",
       "      <td>0</td>\n",
       "      <td>0</td>\n",
       "      <td>0</td>\n",
       "    </tr>\n",
       "    <tr>\n",
       "      <th>4</th>\n",
       "      <td>346786</td>\n",
       "      <td>uk_limited_company</td>\n",
       "      <td>False</td>\n",
       "      <td>0</td>\n",
       "      <td>0</td>\n",
       "      <td>0</td>\n",
       "      <td>0</td>\n",
       "      <td>0</td>\n",
       "      <td>0</td>\n",
       "      <td>0</td>\n",
       "    </tr>\n",
       "  </tbody>\n",
       "</table>\n",
       "</div>"
      ],
      "text/plain": [
       "  company        company_type  subscribed_after_free_trial day1 day2 day3  \\\n",
       "0  346782  uk_limited_company                        False    1    0    1   \n",
       "1  346783  uk_limited_company                        False    0    0    0   \n",
       "2  346784  uk_limited_company                         True    1    0    0   \n",
       "3  346785  uk_limited_company                        False    0    0    0   \n",
       "4  346786  uk_limited_company                        False    0    0    0   \n",
       "\n",
       "  day4 day5 day6 day7  \n",
       "0    0    1    0    0  \n",
       "1    0    0    0    0  \n",
       "2    1    4    1    0  \n",
       "3    0    0    0    0  \n",
       "4    0    0    0    0  "
      ]
     },
     "execution_count": 7,
     "metadata": {},
     "output_type": "execute_result"
    }
   ],
   "source": [
    "data = pd.merge(data_attributes, data_logs, on='company', how='inner')\n",
    "data.head()"
   ]
  },
  {
   "cell_type": "code",
   "execution_count": 51,
   "metadata": {},
   "outputs": [
    {
     "name": "stdout",
     "output_type": "stream",
     "text": [
      "Number of no subs: 789\n"
     ]
    }
   ],
   "source": [
    "data_no_sub = data.loc[data['subscribed_after_free_trial'] == False]\n",
    "\n",
    "num_rows = len(data_no_sub)\n",
    "print(\"Number of no subs: \" + str(num_rows))\n",
    "\n",
    "data_no_sub_avg_day1 = data_no_sub['day1'].sum() / num_rows\n",
    "data_no_sub_avg_day2 = data_no_sub['day2'].sum() / num_rows\n",
    "data_no_sub_avg_day3 = data_no_sub['day3'].sum() / num_rows\n",
    "data_no_sub_avg_day4 = data_no_sub['day4'].sum() / num_rows\n",
    "data_no_sub_avg_day5 = data_no_sub['day5'].sum() / num_rows\n",
    "data_no_sub_avg_day6 = data_no_sub['day6'].sum() / num_rows\n",
    "data_no_sub_avg_day7 = data_no_sub['day7'].sum() / num_rows\n",
    "\n",
    "\n",
    "data_no_sub_all_days = [data_no_sub_avg_day1, data_no_sub_avg_day2, data_no_sub_avg_day3, data_no_sub_avg_day4, data_no_sub_avg_day5, data_no_sub_avg_day6, data_no_sub_avg_day7]\n"
   ]
  },
  {
   "cell_type": "code",
   "execution_count": 53,
   "metadata": {},
   "outputs": [
    {
     "name": "stdout",
     "output_type": "stream",
     "text": [
      "Number of subs: 161\n"
     ]
    }
   ],
   "source": [
    "data_yes_sub = data.loc[data['subscribed_after_free_trial'] == True]\n",
    "\n",
    "num_rows = len(data_yes_sub)\n",
    "print(\"Number of subs: \" + str(num_rows))\n",
    "\n",
    "data_yes_sub_avg_day1 = data_yes_sub['day1'].sum() / num_rows\n",
    "data_yes_sub_avg_day2 = data_yes_sub['day2'].sum() / num_rows\n",
    "data_yes_sub_avg_day3 = data_yes_sub['day3'].sum() / num_rows\n",
    "data_yes_sub_avg_day4 = data_yes_sub['day4'].sum() / num_rows\n",
    "data_yes_sub_avg_day5 = data_yes_sub['day5'].sum() / num_rows\n",
    "data_yes_sub_avg_day6 = data_yes_sub['day6'].sum() / num_rows\n",
    "data_yes_sub_avg_day7 = data_yes_sub['day7'].sum() / num_rows\n",
    "\n",
    "\n",
    "data_yes_sub_all_days = [data_yes_sub_avg_day1, data_yes_sub_avg_day2, data_yes_sub_avg_day3, data_yes_sub_avg_day4, data_yes_sub_avg_day5, data_yes_sub_avg_day6, data_yes_sub_avg_day7]\n"
   ]
  },
  {
   "cell_type": "code",
   "execution_count": 10,
   "metadata": {},
   "outputs": [
    {
     "data": {
      "image/png": "[encoded data removed]",
      "text/plain": [
       "<matplotlib.figure.Figure at 0x10b0a62b0>"
      ]
     },
     "metadata": {},
     "output_type": "display_data"
    }
   ],
   "source": [
    "plt.plot([1, 2, 3, 4, 5, 6, 7], data_no_sub_all_days, color='r')\n",
    "plt.plot([1, 2, 3, 4, 5, 6, 7], data_yes_sub_all_days, color='g')\n",
    "plt.legend(['no sub', 'sub'], loc='center right')\n",
    "plt.show()"
   ]
  },
  {
   "cell_type": "markdown",
   "metadata": {},
   "source": [
    "I think on average companies that subscribe go to the website at least two times and companies that don't subscribe <= 1; try to test it with standard deviation or smth; maybe plot a cheeky histogram of the sum smth like this"
   ]
  },
  {
   "cell_type": "code",
   "execution_count": 11,
   "metadata": {},
   "outputs": [
    {
     "name": "stdout",
     "output_type": "stream",
     "text": [
      "uk_limited_company: 500\n",
      "uk_sole_trader: 350\n",
      "universal_company: 100\n"
     ]
    }
   ],
   "source": [
    "print('uk_limited_company: ' + str(len(data.loc[data['company_type'] == 'uk_limited_company'])))\n",
    "print('uk_sole_trader: ' + str(len(data.loc[data['company_type'] == 'uk_sole_trader'])))\n",
    "print('universal_company: ' + str(len(data.loc[data['company_type'] == 'universal_company'])))"
   ]
  },
  {
   "cell_type": "code",
   "execution_count": 24,
   "metadata": {},
   "outputs": [],
   "source": [
    "X = data.drop('company', axis=1)\n",
    "X = pd.get_dummies(X, columns=['company_type']) # convert categorical variables to dummy variables\n",
    "Y = X['subscribed_after_free_trial'] # get the labels e.g subscribed_after_free_trial\n",
    "X = X.drop('subscribed_after_free_trial', axis=1) # remove labels column from the training data\n",
    "X = X.astype(dtype={\"day1\":\"int32\", \"day2\":\"int32\", \"day3\":\"int32\", \"day4\":\"int32\", \"day5\":\"int32\", \"day6\":\"int32\", \"day7\":\"int32\"})"
   ]
  },
  {
   "cell_type": "code",
   "execution_count": 25,
   "metadata": {},
   "outputs": [],
   "source": [
    "cv = StratifiedKFold(Y, n_folds=10, shuffle=True, random_state=seed) # Define cross-validation strategy for testing. Let's use StratifiedKFold which guarantees that target label is equally distributed across each fold:"
   ]
  },
  {
   "cell_type": "code",
   "execution_count": 26,
   "metadata": {},
   "outputs": [],
   "source": [
    "# perform randomized grid search with xgboost\n",
    "\n",
    "params_fixed = {\n",
    "    'objective': 'binary:logistic',\n",
    "    'silent': 1\n",
    "}\n",
    "\n",
    "\n",
    "params_dist_grid = {\n",
    "    'max_depth': [1, 2, 3, 4],\n",
    "    'gamma': [0, 0.5, 1],\n",
    "    'n_estimators': randint(1, 1001), # uniform discrete random distribution\n",
    "    'learning_rate': uniform(), # gaussian distribution\n",
    "    'subsample': uniform(), # gaussian distribution\n",
    "    'colsample_bytree': uniform() # gaussian distribution\n",
    "}\n",
    "\n",
    "grid_search_xgboost = RandomizedSearchCV (\n",
    "    estimator = XGBClassifier(**params_fixed, seed=seed),\n",
    "    param_distributions = params_dist_grid,\n",
    "    n_iter = 10,\n",
    "    cv = cv,\n",
    "    scoring= 'accuracy',\n",
    "    random_state = seed\n",
    ")"
   ]
  },
  {
   "cell_type": "code",
   "execution_count": 27,
   "metadata": {},
   "outputs": [
    {
     "data": {
      "text/plain": [
       "RandomizedSearchCV(cv=sklearn.cross_validation.StratifiedKFold(labels=[False False ..., False False], n_folds=10, shuffle=True, random_state=9090),\n",
       "          error_score='raise',\n",
       "          estimator=XGBClassifier(base_score=0.5, colsample_bylevel=1, colsample_bytree=1,\n",
       "       gamma=0, learning_rate=0.1, max_delta_step=0, max_depth=3,\n",
       "       min_child_weight=1, missing=None, n_estimators=100, nthread=-1,\n",
       "       objective='binary:logistic', reg_alpha=0, reg_lambda=1,\n",
       "       scale_pos_weight=1, seed=9090, silent=1, subsample=1),\n",
       "          fit_params={}, iid=True, n_iter=10, n_jobs=1,\n",
       "          param_distributions={'max_depth': [1, 2, 3, 4], 'gamma': [0, 0.5, 1], 'n_estimators': <scipy.stats._distn_infrastructure.rv_frozen object at 0x1a19561b38>, 'learning_rate': <scipy.stats._distn_infrastructure.rv_frozen object at 0x1a195614a8>, 'subsample': <scipy.stats._distn_infrastructure.rv_frozen object at 0x1a19561320>, 'colsample_bytree': <scipy.stats._distn_infrastructure.rv_frozen object at 0x1a19561668>},\n",
       "          pre_dispatch='2*n_jobs', random_state=9090, refit=True,\n",
       "          scoring='accuracy', verbose=0)"
      ]
     },
     "execution_count": 27,
     "metadata": {},
     "output_type": "execute_result"
    }
   ],
   "source": [
    "grid_search_xgboost.fit(X, Y)"
   ]
  },
  {
   "cell_type": "code",
   "execution_count": 28,
   "metadata": {},
   "outputs": [],
   "source": [
    "xgboost_model = grid_search_xgboost.best_estimator_"
   ]
  },
  {
   "cell_type": "code",
   "execution_count": 29,
   "metadata": {},
   "outputs": [
    {
     "data": {
      "text/plain": [
       "{'colsample_bytree': 0.23486391244377081,\n",
       " 'gamma': 1,\n",
       " 'learning_rate': 0.58977487563261288,\n",
       " 'max_depth': 4,\n",
       " 'n_estimators': 860,\n",
       " 'subsample': 0.88745857539238782}"
      ]
     },
     "execution_count": 29,
     "metadata": {},
     "output_type": "execute_result"
    }
   ],
   "source": [
    "grid_search_xgboost.best_params_"
   ]
  },
  {
   "cell_type": "code",
   "execution_count": 30,
   "metadata": {},
   "outputs": [
    {
     "data": {
      "text/plain": [
       "0.9726315789473684"
      ]
     },
     "execution_count": 30,
     "metadata": {},
     "output_type": "execute_result"
    }
   ],
   "source": [
    "grid_search_xgboost.best_score_"
   ]
  },
  {
   "cell_type": "code",
   "execution_count": 31,
   "metadata": {},
   "outputs": [
    {
     "data": {
      "image/png": "[encoded data removed]",
      "text/plain": [
       "<matplotlib.figure.Figure at 0x1a194b8470>"
      ]
     },
     "metadata": {},
     "output_type": "display_data"
    }
   ],
   "source": [
    "plot_importance(xgboost_model)\n",
    "plt.show()"
   ]
  },
  {
   "cell_type": "code",
   "execution_count": 32,
   "metadata": {},
   "outputs": [
    {
     "data": {
      "text/plain": [
       "{'colsample_bytree': <scipy.stats._distn_infrastructure.rv_frozen at 0x1a19561668>,\n",
       " 'gamma': [0, 0.5, 1],\n",
       " 'learning_rate': <scipy.stats._distn_infrastructure.rv_frozen at 0x1a195614a8>,\n",
       " 'max_depth': [1, 2, 3, 4],\n",
       " 'n_estimators': <scipy.stats._distn_infrastructure.rv_frozen at 0x1a19561b38>,\n",
       " 'subsample': <scipy.stats._distn_infrastructure.rv_frozen at 0x1a19561320>}"
      ]
     },
     "execution_count": 32,
     "metadata": {},
     "output_type": "execute_result"
    }
   ],
   "source": [
    "grid_search_xgboost.param_distributions"
   ]
  },
  {
   "cell_type": "code",
   "execution_count": null,
   "metadata": {},
   "outputs": [],
   "source": []
  },
  {
   "cell_type": "code",
   "execution_count": 37,
   "metadata": {},
   "outputs": [],
   "source": [
    "# perform randomized grid search with xgboost\n",
    "\n",
    "params_fixed = {\n",
    "    'objective': 'binary:logistic',\n",
    "    'silent': 1\n",
    "}\n",
    "\n",
    "\n",
    "params_dist_grid = {\n",
    "    'max_depth': [1, 2, 3, 4],\n",
    "    'gamma': [0, 0.5, 1],\n",
    "    'n_estimators': randint(1, 1001), # uniform discrete random distribution\n",
    "    'learning_rate': uniform(), # gaussian distribution\n",
    "    'subsample': uniform(), # gaussian distribution\n",
    "    'colsample_bytree': uniform() # gaussian distribution\n",
    "}\n",
    "\n",
    "grid_search_xgboost_f1 = RandomizedSearchCV (\n",
    "    estimator = XGBClassifier(**params_fixed, seed=seed),\n",
    "    param_distributions = params_dist_grid,\n",
    "    n_iter = 10,\n",
    "    cv = cv,\n",
    "    scoring= 'f1_weighted',\n",
    "    random_state = seed\n",
    ")"
   ]
  },
  {
   "cell_type": "code",
   "execution_count": 38,
   "metadata": {},
   "outputs": [
    {
     "data": {
      "text/plain": [
       "RandomizedSearchCV(cv=sklearn.cross_validation.StratifiedKFold(labels=[False False ..., False False], n_folds=10, shuffle=True, random_state=9090),\n",
       "          error_score='raise',\n",
       "          estimator=XGBClassifier(base_score=0.5, colsample_bylevel=1, colsample_bytree=1,\n",
       "       gamma=0, learning_rate=0.1, max_delta_step=0, max_depth=3,\n",
       "       min_child_weight=1, missing=None, n_estimators=100, nthread=-1,\n",
       "       objective='binary:logistic', reg_alpha=0, reg_lambda=1,\n",
       "       scale_pos_weight=1, seed=9090, silent=1, subsample=1),\n",
       "          fit_params={}, iid=True, n_iter=10, n_jobs=1,\n",
       "          param_distributions={'max_depth': [1, 2, 3, 4], 'gamma': [0, 0.5, 1], 'n_estimators': <scipy.stats._distn_infrastructure.rv_frozen object at 0x1a1959dc18>, 'learning_rate': <scipy.stats._distn_infrastructure.rv_frozen object at 0x1a1959dfd0>, 'subsample': <scipy.stats._distn_infrastructure.rv_frozen object at 0x1a1959db00>, 'colsample_bytree': <scipy.stats._distn_infrastructure.rv_frozen object at 0x1a19520588>},\n",
       "          pre_dispatch='2*n_jobs', random_state=9090, refit=True,\n",
       "          scoring='f1_weighted', verbose=0)"
      ]
     },
     "execution_count": 38,
     "metadata": {},
     "output_type": "execute_result"
    }
   ],
   "source": [
    "grid_search_xgboost_f1.fit(X, Y)"
   ]
  },
  {
   "cell_type": "code",
   "execution_count": 39,
   "metadata": {},
   "outputs": [
    {
     "data": {
      "text/plain": [
       "0.9720907993056027"
      ]
     },
     "execution_count": 39,
     "metadata": {},
     "output_type": "execute_result"
    }
   ],
   "source": [
    "grid_search_xgboost_f1.best_score_"
   ]
  },
  {
   "cell_type": "code",
   "execution_count": 40,
   "metadata": {},
   "outputs": [
    {
     "data": {
      "text/plain": [
       "{'colsample_bytree': 0.4679832893434428,\n",
       " 'gamma': 0.5,\n",
       " 'learning_rate': 0.32632463340100015,\n",
       " 'max_depth': 4,\n",
       " 'n_estimators': 36,\n",
       " 'subsample': 0.89007556342233729}"
      ]
     },
     "execution_count": 40,
     "metadata": {},
     "output_type": "execute_result"
    }
   ],
   "source": [
    "grid_search_xgboost_f1.best_params_"
   ]
  },
  {
   "cell_type": "code",
   "execution_count": 41,
   "metadata": {},
   "outputs": [
    {
     "data": {
      "image/png": "[encoded data removed]",
      "text/plain": [
       "<matplotlib.figure.Figure at 0x1a10bbf4a8>"
      ]
     },
     "metadata": {},
     "output_type": "display_data"
    }
   ],
   "source": [
    "plot_importance(xgboost_model)\n",
    "plt.show()"
   ]
  },
  {
   "cell_type": "code",
   "execution_count": 46,
   "metadata": {},
   "outputs": [
    {
     "data": {
      "text/plain": [
       "GridSearchCV(cv=sklearn.cross_validation.StratifiedKFold(labels=[False False ..., False False], n_folds=10, shuffle=True, random_state=9090),\n",
       "       error_score='raise',\n",
       "       estimator=SVC(C=1.0, cache_size=200, class_weight=None, coef0=0.0,\n",
       "  decision_function_shape='ovr', degree=3, gamma='auto', kernel='rbf',\n",
       "  max_iter=-1, probability=False, random_state=None, shrinking=True,\n",
       "  tol=0.001, verbose=False),\n",
       "       fit_params={}, iid=True, n_jobs=1,\n",
       "       param_grid={'gamma': array([  1.00000e-09,   1.00000e-08,   1.00000e-07,   1.00000e-06,\n",
       "         1.00000e-05,   1.00000e-04,   1.00000e-03,   1.00000e-02,\n",
       "         1.00000e-01,   1.00000e+00,   1.00000e+01,   1.00000e+02,\n",
       "         1.00000e+03]), 'C': array([  1.00000e-02,   1.00000e-01,   1.00000e+00,   1.00000e+01,\n",
       "         1.00000e+02,   1.00000e+03,   1.00000e+04,   1.00000e+05,\n",
       "         1.00000e+06,   1.00000e+07,   1.00000e+08,   1.00000e+09,\n",
       "         1.00000e+10])},\n",
       "       pre_dispatch='2*n_jobs', refit=True, scoring=None, verbose=0)"
      ]
     },
     "execution_count": 46,
     "metadata": {},
     "output_type": "execute_result"
    }
   ],
   "source": [
    "C_range = np.logspace(-2, 10, 13)\n",
    "gamma_range = np.logspace(-9, 3, 13)\n",
    "param_grid = { 'gamma': gamma_range, \n",
    "                'C': C_range\n",
    "             }\n",
    "cv = StratifiedKFold(Y, n_folds=10, shuffle=True, random_state=seed)\n",
    "grid_search_svm = GridSearchCV(SVC(), param_grid=param_grid, cv=cv)\n",
    "grid_search_svm.fit(X, Y)"
   ]
  },
  {
   "cell_type": "code",
   "execution_count": 54,
   "metadata": {},
   "outputs": [
    {
     "data": {
      "text/plain": [
       "0.9778947368421053"
      ]
     },
     "execution_count": 54,
     "metadata": {},
     "output_type": "execute_result"
    }
   ],
   "source": [
    "grid_search_svm.best_score_"
   ]
  },
  {
   "cell_type": "code",
   "execution_count": null,
   "metadata": {},
   "outputs": [],
   "source": []
  },
  {
   "cell_type": "code",
   "execution_count": null,
   "metadata": {},
   "outputs": [],
   "source": []
  },
  {
   "cell_type": "code",
   "execution_count": null,
   "metadata": {},
   "outputs": [],
   "source": []
  },
  {
   "cell_type": "code",
   "execution_count": null,
   "metadata": {
    "collapsed": true
   },
   "outputs": [],
   "source": []
  },
  {
   "cell_type": "code",
   "execution_count": null,
   "metadata": {},
   "outputs": [],
   "source": []
  },
  {
   "cell_type": "code",
   "execution_count": null,
   "metadata": {},
   "outputs": [],
   "source": []
  },
  {
   "cell_type": "code",
   "execution_count": null,
   "metadata": {},
   "outputs": [],
   "source": []
  },
  {
   "cell_type": "code",
   "execution_count": null,
   "metadata": {
    "collapsed": true
   },
   "outputs": [],
   "source": []
  }
 ],
 "metadata": {
  "kernelspec": {
   "display_name": "Python 3",
   "language": "python",
   "name": "python3"
  },
  "language_info": {
   "codemirror_mode": {
    "name": "ipython",
    "version": 3
   },
   "file_extension": ".py",
   "mimetype": "text/x-python",
   "name": "python",
   "nbconvert_exporter": "python",
   "pygments_lexer": "ipython3",
   "version": "3.6.3"
  }
 },
 "nbformat": 4,
 "nbformat_minor": 2
}
